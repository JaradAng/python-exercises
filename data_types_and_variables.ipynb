{
 "cells": [
  {
   "cell_type": "code",
   "execution_count": 23,
   "metadata": {},
   "outputs": [
    {
     "name": "stdout",
     "output_type": "stream",
     "text": [
      "3\n",
      "9\n",
      "You are looking at a total of $27\n"
     ]
    }
   ],
   "source": [
    "# how_many_movies = input('How many movies are you renting:  ')\n",
    "# print(how_many_movies)\n",
    "# how_many_days = input('How many total days will you have them for  ')\n",
    "# print(how_many_days)\n",
    "# movies = int(how_many_movies)\n",
    "# days = int(how_many_days)\n",
    "# total = (movies * days)\n",
    " \n",
    "# print(f'You are looking at a total of ${total}')\n",
    "\n",
    "############################## I made it as inputs instead of just asigning a variable\n",
    "\n",
    "daily_price = 3\n",
    "# how many days per movie\n",
    "lil_mermaid = 3\n",
    "brother_bear = 5\n",
    "hercules = 1\n",
    "\n",
    "total_days = lil_mermaid + brother_bear + hercules\n",
    "\n",
    "total_due = total_days * daily_price\n",
    "\n",
    "print (total_due)"
   ]
  },
  {
   "cell_type": "code",
   "execution_count": 24,
   "metadata": {},
   "outputs": [
    {
     "name": "stdout",
     "output_type": "stream",
     "text": [
      "7420\n"
     ]
    }
   ],
   "source": [
    "# google_hours = int(input('How many hours did you work at Google this week? '))\n",
    "# amazon_hours = int(input('How many hours did you work at Amazon this week? '))\n",
    "# fb_hours = int(input('How many hours at FB did you work this week? '))\n",
    "# all_hours = google_hours + amazon_hours + fb_hours\n",
    "# print(f'Wow you worked a total of {all_hours} hours this week at all three places')\n",
    "# goog_pay = google_hours * 400\n",
    "# amazon_pay = amazon_hours * 380\n",
    "# fb_pay = fb_hours * 350\n",
    "# total_pay = goog_pay + amazon_pay + fb_pay\n",
    "# print(f'You earned ${goog_pay} at Google, ${amazon_pay} at Amazon, and ${fb_pay} at Facebook, for a whopping total of ${total_pay}')\n",
    "\n",
    "#### Made first as inputs again\n",
    "google_hours = 6\n",
    "goog_rate = 400\n",
    "amazon_hours = 4\n",
    "amazon_rate = 380\n",
    "fb_hours = 10 \n",
    "fb_rate = 350\n",
    "goog_pay = google_hours * goog_rate\n",
    "amazon_pay = amazon_hours * amazon_rate\n",
    "fb_pay = fb_hours * fb_rate\n",
    "total_pay = goog_pay + amazon_pay + fb_pay\n",
    "print(total_pay)"
   ]
  },
  {
   "cell_type": "code",
   "execution_count": 25,
   "metadata": {},
   "outputs": [
    {
     "name": "stdout",
     "output_type": "stream",
     "text": [
      "True\n"
     ]
    }
   ],
   "source": [
    "# full_class = False\n",
    "# full_schedule = False\n",
    "# ## student = input('Please enter students name ')\n",
    "# if full_class == False:\n",
    "#     print(f'The class if open, now lets check schedule')\n",
    "#     if full_schedule == False:\n",
    "#         print('everything looks good here, welcome to class')\n",
    "# else:\n",
    "#     print(f'Better luck next year')\n",
    "\n",
    "\n",
    "open_class = True\n",
    "schedule_free = True\n",
    "\n",
    "can_enroll = open_class and schedule_free\n",
    "\n",
    "print(can_enroll)"
   ]
  },
  {
   "cell_type": "code",
   "execution_count": 12,
   "metadata": {},
   "outputs": [
    {
     "name": "stdout",
     "output_type": "stream",
     "text": [
      "True\n"
     ]
    }
   ],
   "source": [
    "# prem_member = input('Are you a premium member? Enter: Y or N')\n",
    "# if prem_member == 'Y':\n",
    "#     print('Congrats you get the discount')\n",
    "# else:\n",
    "#     item_count = int(input('How many items did you purchase? '))\n",
    "#     if item_count >= 2:\n",
    "#         print(('Congrats you get the discount'))\n",
    "#     else:\n",
    "#         print('Sorry gotta buy at least 2 items for the discount')\n",
    "\n",
    "## Redoing it to make assigned variables\n",
    "\n",
    "prem_member = True\n",
    "more_than_2 = True\n",
    "expired_offer = False\n",
    "\n",
    "discount_available = prem_member and more_than_2 and not expired_offer\n",
    "\n",
    "print(discount_available)"
   ]
  },
  {
   "cell_type": "code",
   "execution_count": 16,
   "metadata": {},
   "outputs": [
    {
     "name": "stdout",
     "output_type": "stream",
     "text": [
      "codeup\n"
     ]
    }
   ],
   "source": [
    "username = 'codeup'\n",
    "password = 'notastrongpassword'\n",
    "\n",
    "# if len(username) < 20:\n",
    "#     print('Your username is good to go')\n",
    "#     if len(password) > 5:\n",
    "#         print('Password passes the strict length requirement')\n",
    "#         if username != password:\n",
    "#             print('Dont forget either')\n",
    "# else:\n",
    "#     print('Please make your credentials meet all requirements')\n",
    "\n",
    "password_length = len(password) >= 5\n",
    "username_length = len(username) <= 20\n",
    "not_same = username != password\n",
    "no_space_pass = password == password.strip()\n",
    "no_space_user = username == username.strip()\n",
    "\n",
    "is_strong_when = (password_length and username_length and not_same and no_space_pass and no_space_user)\n",
    "\n",
    "print(is_strong_when)"
   ]
  }
 ],
 "metadata": {
  "interpreter": {
   "hash": "aee8b7b246df8f9039afb4144a1f6fd8d2ca17a180786b69acc140d282b71a49"
  },
  "kernelspec": {
   "display_name": "Python 3.10.4 64-bit",
   "language": "python",
   "name": "python3"
  },
  "language_info": {
   "codemirror_mode": {
    "name": "ipython",
    "version": 3
   },
   "file_extension": ".py",
   "mimetype": "text/x-python",
   "name": "python",
   "nbconvert_exporter": "python",
   "pygments_lexer": "ipython3",
   "version": "3.10.4"
  },
  "orig_nbformat": 4
 },
 "nbformat": 4,
 "nbformat_minor": 2
}
