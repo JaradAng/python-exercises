{
 "cells": [
  {
   "cell_type": "code",
   "execution_count": 13,
   "metadata": {},
   "outputs": [
    {
     "name": "stdout",
     "output_type": "stream",
     "text": [
      "Complete\n"
     ]
    }
   ],
   "source": [
    "#Define a function named is_two. It should accept one input and return True if the passed input is either the number or the string 2, False otherwise.\n",
    "def is_two(x):\n",
    "    ## returns True or False if the input = 2\n",
    "    return x == 2 or x == '2'\n",
    "    \n",
    "\n",
    "assert is_two(3) == False\n",
    "assert is_two(2) == True\n",
    "assert is_two(20) == False\n",
    "print('Complete')"
   ]
  },
  {
   "cell_type": "code",
   "execution_count": 51,
   "metadata": {},
   "outputs": [
    {
     "name": "stdout",
     "output_type": "stream",
     "text": [
      "Complete\n"
     ]
    }
   ],
   "source": [
    "#Define a function named is_vowel. It should return True if the passed string is a vowel, False otherwise.\n",
    "vowel = 'a, e, i, o, u'\n",
    "def is_vowel(x):\n",
    "    # Converts the input to a string and lowercases all the letters to match case of vowel\n",
    "    x = str(x).lower()\n",
    "    return x in vowel\n",
    "\n",
    "assert is_vowel('a') == True\n",
    "assert is_vowel('b') == False\n",
    "assert is_vowel('A') == True\n",
    "assert is_vowel(5) == False\n",
    "print('Complete')\n",
    "\n"
   ]
  },
  {
   "cell_type": "code",
   "execution_count": 56,
   "metadata": {},
   "outputs": [
    {
     "name": "stdout",
     "output_type": "stream",
     "text": [
      "Complete\n"
     ]
    }
   ],
   "source": [
    "#Define a function named is_consonant. It should return True if the passed string is a consonant, False otherwise. Use your is_vowel function to accomplish this.\n",
    "vowel = 'a, e, i, o, u'\n",
    "def is_consonant(x):\n",
    "    # Converts the input to a string and lowercases all the letters to match case of vowel\n",
    "    x = str(x).lower()\n",
    "    #Checks to see if the input does not contain a vowel\n",
    "    if x not in vowel:\n",
    "        return True\n",
    "    else:\n",
    "        return False\n",
    "\n",
    "assert is_consonant('a') == False\n",
    "assert is_consonant('b') == True\n",
    "assert is_consonant('A') == False\n",
    "\n",
    "print('Complete')"
   ]
  },
  {
   "cell_type": "code",
   "execution_count": 59,
   "metadata": {},
   "outputs": [],
   "source": [
    "#Define a function that accepts a string that is a word. The function should capitalize the first letter of the word if the word starts with a consonant.\n",
    "vowel = 'a, e, i, o, u'\n",
    "def cap_consonant(x):\n",
    "    # Converts the input to a string and lowercases all the letters to match case of vowel\n",
    "    x = str(x).lower()\n",
    "    #checks to see if the first letter is a consonant or a vowel and if cons. makes it capitalize\n",
    "    if x[0] not in vowel:\n",
    "        return x.title()\n",
    "    else:\n",
    "        return x\n",
    "\n",
    "assert cap_consonant('alpha') == 'alpha'\n",
    "assert cap_consonant('BRAVO') == 'Bravo'\n",
    "assert cap_consonant('Angle') == 'angle'\n"
   ]
  },
  {
   "cell_type": "code",
   "execution_count": 30,
   "metadata": {},
   "outputs": [
    {
     "name": "stdout",
     "output_type": "stream",
     "text": [
      "complete\n"
     ]
    }
   ],
   "source": [
    "#Define a function named calculate_tip. It should accept a tip percentage (a number between 0 and 1) and the bill total, and return the amount to tip.\n",
    "\n",
    "def calculate_tip(tip, bill):\n",
    "    #I thought it is easier to enter a tip as a whole number and convert that to a fraction. \n",
    "    tip_percent = tip / 100\n",
    "    # calculates how much to tip for the amount of the bill \n",
    "    tip_total = (bill * tip_percent)\n",
    "    return tip_total\n",
    "\n",
    "assert calculate_tip(15,100) == 15\n",
    "assert calculate_tip(10,100) == 10\n",
    "assert calculate_tip(5,100) == 5\n",
    "print('complete')"
   ]
  },
  {
   "cell_type": "code",
   "execution_count": 32,
   "metadata": {},
   "outputs": [
    {
     "name": "stdout",
     "output_type": "stream",
     "text": [
      "complete\n"
     ]
    }
   ],
   "source": [
    "#Define a function named apply_discount. It should accept a original price, and a discount percentage, and return the price after the discount is applied.\n",
    "def apply_discount(discount,og_price):\n",
    "    #puts the discount into a percentage\n",
    "    disc_percent = discount / 100\n",
    "    # calculates amount of discount according to the original price\n",
    "    price_to_disc = og_price * disc_percent\n",
    "    #calculates the price after applying the discount\n",
    "    discounted_price = og_price - price_to_disc\n",
    "    return discounted_price\n",
    "\n",
    "assert apply_discount(15,100) == 85\n",
    "assert apply_discount(10,100) == 90\n",
    "assert apply_discount(5,100) == 95\n",
    "print('complete')\n"
   ]
  },
  {
   "cell_type": "code",
   "execution_count": 47,
   "metadata": {},
   "outputs": [],
   "source": [
    "# Define a function named handle_commas. It should accept a string that is a number that contains commas in it as input, and return a number as output.\n",
    "def handle_commas(number):\n",
    "    # replaces the comma with no space\n",
    "    no_comma = int(number.replace(',',''))\n",
    "    return no_comma\n",
    "\n",
    "assert handle_commas('1,000,000') == 1000000"
   ]
  },
  {
   "cell_type": "code",
   "execution_count": 36,
   "metadata": {},
   "outputs": [],
   "source": [
    "#Define a function named get_letter_grade. It should accept a number and return the letter grade associated with that number (A-F).\n",
    "def get_letter_grade(grade):\n",
    "    # spreads out the grades into letter grades and checks to see if what the grade falls into\n",
    "    if grade >= 88:\n",
    "        return \"A\"\n",
    "    elif 88 >= grade >= 80:\n",
    "        return 'B'\n",
    "    elif 79 >= grade >= 67:\n",
    "        return \"C\"\n",
    "    elif 66 >= grade >= 60:\n",
    "        return \"D\"\n",
    "    elif grade <= 59:\n",
    "        return \"F\" \n",
    "\n",
    "assert get_letter_grade(90) == 'A'\n",
    "assert get_letter_grade(80) == 'B'\n",
    "assert get_letter_grade(77) == 'C'\n",
    "assert get_letter_grade(35) == 'F'\n",
    "\n",
    "print('complete')"
   ]
  },
  {
   "cell_type": "code",
   "execution_count": 39,
   "metadata": {},
   "outputs": [
    {
     "name": "stdout",
     "output_type": "stream",
     "text": [
      "Complete\n"
     ]
    }
   ],
   "source": [
    "#Define a function named remove_vowels that accepts a string and returns a string with all the vowels removed.\n",
    "vowel = 'a,e,i,o,u'\n",
    "def remove_vowels(vowl):\n",
    "    # just getting rid of the vowels \n",
    "    return (vowl.replace('a', '')\n",
    "        .replace('e', '')\n",
    "        .replace('i', '')\n",
    "        .replace('o', '')\n",
    "        .replace('u', ''))\n",
    "\n",
    "assert remove_vowels('book') == 'bk'\n",
    "assert remove_vowels('school') == 'schl'\n",
    "assert remove_vowels('banana') == 'bnn'\n",
    "print('Complete')\n",
    "\n"
   ]
  },
  {
   "cell_type": "code",
   "execution_count": 14,
   "metadata": {},
   "outputs": [
    {
     "name": "stdout",
     "output_type": "stream",
     "text": [
      "<function normalize_name at 0x1075ccc10>\n",
      "<function normalize_name at 0x1075ccc10>\n",
      "<function normalize_name at 0x1075ccc10>\n"
     ]
    }
   ],
   "source": [
    "# Define a function named normalize_name. It should accept a string and return a valid python identifier, that is:\n",
    "# anything that is not a valid python identifier should be removed\n",
    "# leading and trailing whitespace should be removed\n",
    "# everything should be lowercase\n",
    "# spaces should be replaced with underscores\n",
    "\n",
    "def normalize_name(name):\n",
    "   \n",
    "    # created a blank name so that the for loop can enter in valid characters\n",
    "    valid_name = ''\n",
    "    for letter in name:\n",
    "        # removes anthing that is not alpha or numeric and if it is the new character enters \n",
    "        if (letter.isalnum() or letter == \" \"):\n",
    "            valid_name += letter\n",
    "    print(normalize_name)\n",
    "    ## converts the input to a string, lowercases, and strips any white spaces before and after \n",
    "    valid_name = str(valid_name).lower().strip().replace(' ', '_')\n",
    "    return valid_name\n",
    "\n",
    "\n",
    "\n",
    "assert normalize_name('Chad') == 'chad'\n",
    "assert normalize_name('Chad!!') == 'chad'\n",
    "assert normalize_name('Chad Chad') == 'chad_chad'\n",
    "\n",
    "    "
   ]
  },
  {
   "cell_type": "code",
   "execution_count": 17,
   "metadata": {},
   "outputs": [],
   "source": [
    "#Write a function named cumulative_sum that accepts a list of numbers and returns a list that is the cumulative sum of the numbers in the list.\n",
    "\n",
    "def cumulative_sum(list_of_num):\n",
    "    # created new total for the list and a new list to put into the totals\n",
    "    total = 0\n",
    "    output = []\n",
    "    for number in list_of_num:\n",
    "        # adds the new number to the total and adds it to the list\n",
    "        total += number\n",
    "        output.append(total)\n",
    "    return output\n",
    "\n",
    "assert cumulative_sum([1,1,1]) == [1,2,3]"
   ]
  },
  {
   "cell_type": "code",
   "execution_count": 19,
   "metadata": {},
   "outputs": [
    {
     "ename": "IndentationError",
     "evalue": "expected an indented block (509390199.py, line 10)",
     "output_type": "error",
     "traceback": [
      "\u001b[0;36m  Input \u001b[0;32mIn [19]\u001b[0;36m\u001b[0m\n\u001b[0;31m    \u001b[0m\n\u001b[0m    ^\u001b[0m\n\u001b[0;31mIndentationError\u001b[0m\u001b[0;31m:\u001b[0m expected an indented block\n"
     ]
    }
   ],
   "source": [
    "#Create a function named twelveto24. It should accept a string in the format 10:45am or 4:30pm and return a string that is the representation of the time in a 24-hour format. Bonus write a function that does the opposite.\n",
    "\n",
    "def twelveto24(mil_time):\n",
    "    mil_time = mil_time.lower()\n",
    "    if mil_time.endswith == 'am':\n",
    "        return mil_time\n",
    "    else:\n",
    "        \n",
    "\n",
    "\n"
   ]
  }
 ],
 "metadata": {
  "interpreter": {
   "hash": "38cca0c38332a56087b24af0bc80247f4fced29cb4f7f437d91dc159adec9c4e"
  },
  "kernelspec": {
   "display_name": "Python 3.9.12 ('base')",
   "language": "python",
   "name": "python3"
  },
  "language_info": {
   "name": "python",
   "version": "3.9.12"
  },
  "orig_nbformat": 4
 },
 "nbformat": 4,
 "nbformat_minor": 2
}
