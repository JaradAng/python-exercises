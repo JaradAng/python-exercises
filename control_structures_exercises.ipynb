{
 "cells": [
  {
   "cell_type": "code",
   "execution_count": 59,
   "metadata": {},
   "outputs": [
    {
     "name": "stdout",
     "output_type": "stream",
     "text": [
      "Yup, thats a monday alright\n"
     ]
    }
   ],
   "source": [
    "day_of_the_week = input(\"Please enter a day of the week:  \")\n",
    "if day_of_the_week.lower() == \"monday\":\n",
    "    print(\"Yup, thats a monday alright\")\n",
    "else:\n",
    "    print(\"Definitely, not a monday\")"
   ]
  },
  {
   "cell_type": "code",
   "execution_count": 42,
   "metadata": {},
   "outputs": [
    {
     "name": "stdout",
     "output_type": "stream",
     "text": [
      "Please enter a valid day\n",
      "The beatings will continue until the weekend\n"
     ]
    }
   ],
   "source": [
    "day_of_the_week = input(\"Please enter a day of the week:  \")\n",
    "while day_of_the_week.lower() not in ['saturday', 'sunday', 'monday', 'tuesday', 'wednesday', 'thursday', 'friday']:\n",
    "    print('Please enter a valid day')\n",
    "    day_of_the_week = input(\"Please enter a day of the week:  \")\n",
    "if day_of_the_week.lower() == \"saturday\" or day_of_the_week.lower() == \"sunday\":\n",
    "    print(\"Its the weeknd, chill out\")\n",
    "else:\n",
    "    print(\"The beatings will continue until the weekend\")"
   ]
  },
  {
   "cell_type": "code",
   "execution_count": 66,
   "metadata": {},
   "outputs": [
    {
     "name": "stdout",
     "output_type": "stream",
     "text": [
      "This is how much your paycheck is before taxes...46.5\n",
      "This is how much you will actually receive, 20.925\n"
     ]
    }
   ],
   "source": [
    "hours_this_week = float(input(\"How many hours did you work this week? Please enter a number\"))\n",
    "hourly_rate = float(input(\"how much do you make an hour? \"))\n",
    "if hours_this_week > 40:\n",
    "    overtime = (hours_this_week - 40) + (hourly_rate * 1.5)\n",
    "\n",
    "total = (hours_this_week * hourly_rate) + (overtime)\n",
    "print(f\"This is how much your paycheck is before taxes...{total}\")\n",
    "\n",
    "taxed = (total * 0.45) + total\n",
    "print(f\"This is how much you will actually receive, {taxed}\")"
   ]
  },
  {
   "cell_type": "code",
   "execution_count": 43,
   "metadata": {},
   "outputs": [
    {
     "name": "stdout",
     "output_type": "stream",
     "text": [
      "5\n",
      "6\n",
      "7\n",
      "8\n",
      "9\n",
      "10\n",
      "11\n",
      "12\n",
      "13\n",
      "14\n"
     ]
    }
   ],
   "source": [
    "i = 5\n",
    "while i <= 14:\n",
    "    print(i)\n",
    "    i += 1\n",
    "\n"
   ]
  },
  {
   "cell_type": "code",
   "execution_count": 16,
   "metadata": {},
   "outputs": [
    {
     "name": "stdout",
     "output_type": "stream",
     "text": [
      "2\n",
      "4\n",
      "6\n",
      "8\n",
      "10\n",
      "12\n",
      "14\n",
      "16\n",
      "18\n",
      "20\n",
      "22\n",
      "24\n",
      "26\n",
      "28\n",
      "30\n",
      "32\n",
      "34\n",
      "36\n",
      "38\n",
      "40\n",
      "42\n",
      "44\n",
      "46\n",
      "48\n",
      "50\n",
      "52\n",
      "54\n",
      "56\n",
      "58\n",
      "60\n",
      "62\n",
      "64\n",
      "66\n",
      "68\n",
      "70\n",
      "72\n",
      "74\n",
      "76\n",
      "78\n",
      "80\n",
      "82\n",
      "84\n",
      "86\n",
      "88\n",
      "90\n",
      "92\n",
      "94\n",
      "96\n",
      "98\n",
      "100\n"
     ]
    }
   ],
   "source": [
    "i = 0\n",
    "while i <= 99:\n",
    "    i += 2\n",
    "    print(i)"
   ]
  },
  {
   "cell_type": "code",
   "execution_count": 18,
   "metadata": {},
   "outputs": [
    {
     "name": "stdout",
     "output_type": "stream",
     "text": [
      "95\n",
      "90\n",
      "85\n",
      "80\n",
      "75\n",
      "70\n",
      "65\n",
      "60\n",
      "55\n",
      "50\n",
      "45\n",
      "40\n",
      "35\n",
      "30\n",
      "25\n",
      "20\n",
      "15\n",
      "10\n",
      "5\n",
      "0\n",
      "-5\n",
      "-10\n"
     ]
    }
   ],
   "source": [
    "i = 100\n",
    "while i >= -5:\n",
    "    i -= 5\n",
    "    print(i) "
   ]
  },
  {
   "cell_type": "code",
   "execution_count": 27,
   "metadata": {},
   "outputs": [
    {
     "name": "stdout",
     "output_type": "stream",
     "text": [
      "2\n",
      "4\n",
      "16\n",
      "256\n",
      "65536\n"
     ]
    }
   ],
   "source": [
    "i = 2\n",
    "while i < 1_000_000:\n",
    "    print(i)\n",
    "    i **= 2\n",
    " \n"
   ]
  },
  {
   "cell_type": "code",
   "execution_count": 44,
   "metadata": {},
   "outputs": [
    {
     "name": "stdout",
     "output_type": "stream",
     "text": [
      "100\n",
      "95\n",
      "90\n",
      "85\n",
      "80\n",
      "75\n",
      "70\n",
      "65\n",
      "60\n",
      "55\n",
      "50\n",
      "45\n",
      "40\n",
      "35\n",
      "30\n",
      "25\n",
      "20\n",
      "15\n",
      "10\n",
      "5\n",
      "0\n"
     ]
    }
   ],
   "source": [
    "i = 105\n",
    "while i > 0:\n",
    "\n",
    "    i -= 5\n",
    "    print (i)"
   ]
  },
  {
   "cell_type": "code",
   "execution_count": 32,
   "metadata": {},
   "outputs": [
    {
     "name": "stdout",
     "output_type": "stream",
     "text": [
      "5 * 1 = 5\n",
      "5 * 2 = 10\n",
      "5 * 3 = 15\n",
      "5 * 4 = 20\n",
      "5 * 5 = 25\n",
      "5 * 6 = 30\n",
      "5 * 7 = 35\n",
      "5 * 8 = 40\n",
      "5 * 9 = 45\n",
      "5 * 10 = 50\n"
     ]
    }
   ],
   "source": [
    "num_to_be_multiplied = int(input(\"Please enter a number you would like to see multiplied 1 thru 10:  \"))\n",
    "for num in range(1, 11):\n",
    "    total = num_to_be_multiplied * num\n",
    "    print(f\"{num_to_be_multiplied} * {num} = {total}\")"
   ]
  },
  {
   "cell_type": "code",
   "execution_count": 2,
   "metadata": {},
   "outputs": [
    {
     "name": "stdout",
     "output_type": "stream",
     "text": [
      "\n",
      "1\n",
      "22\n",
      "333\n",
      "4444\n",
      "55555\n",
      "666666\n",
      "7777777\n",
      "88888888\n",
      "999999999\n"
     ]
    }
   ],
   "source": [
    "for number in range(10):\n",
    "    print(str(number) * number)"
   ]
  },
  {
   "cell_type": "code",
   "execution_count": 46,
   "metadata": {},
   "outputs": [
    {
     "name": "stdout",
     "output_type": "stream",
     "text": [
      "Number to skip is: 49\n",
      "Here is an odd number 1\n",
      "Here is an odd number 3\n",
      "Here is an odd number 5\n",
      "Here is an odd number 7\n",
      "Here is an odd number 9\n",
      "Here is an odd number 11\n",
      "Here is an odd number 13\n",
      "Here is an odd number 15\n",
      "Here is an odd number 17\n",
      "Here is an odd number 19\n",
      "Here is an odd number 21\n",
      "Here is an odd number 23\n",
      "Here is an odd number 25\n",
      "Here is an odd number 27\n",
      "Here is an odd number 29\n",
      "Here is an odd number 31\n",
      "Here is an odd number 33\n",
      "Here is an odd number 35\n",
      "Here is an odd number 37\n",
      "Here is an odd number 39\n",
      "Here is an odd number 41\n",
      "Here is an odd number 43\n",
      "Here is an odd number 45\n",
      "Here is an odd number 47\n",
      "Yikes skipping number: 49\n"
     ]
    }
   ],
   "source": [
    "odd_number = int(input(\"Please enter an odd number between 1 adn 50\"))\n",
    "\n",
    "while True:\n",
    "    if odd_number > 50 or odd_number % 2 == 0 or odd_number < 0:\n",
    "        odd_number = int(input(\"Please enter an odd number between 1 adn 50\"))\n",
    "    else:\n",
    "        break\n",
    "\n",
    "print(f'Number to skip is: {odd_number}')\n",
    "for number in range(1,51):\n",
    "    if number % 2 != 0 and number != odd_number:\n",
    "        print(f\"Here is an odd number {number}\")\n",
    "    elif number == odd_number:\n",
    "        print(f\"Yikes skipping number: {odd_number}\")\n",
    "        continue\n",
    "        "
   ]
  },
  {
   "cell_type": "code",
   "execution_count": 48,
   "metadata": {},
   "outputs": [
    {
     "ename": "ValueError",
     "evalue": "invalid literal for int() with base 10: 'f'",
     "output_type": "error",
     "traceback": [
      "\u001b[0;31m---------------------------------------------------------------------------\u001b[0m",
      "\u001b[0;31mValueError\u001b[0m                                Traceback (most recent call last)",
      "\u001b[1;32m/Users/jarad/codeup_data_science/python-exercises/control_structures_exercises.ipynb Cell 12'\u001b[0m in \u001b[0;36m<cell line: 1>\u001b[0;34m()\u001b[0m\n\u001b[0;32m----> <a href='vscode-notebook-cell:/Users/jarad/codeup_data_science/python-exercises/control_structures_exercises.ipynb#ch0000011?line=0'>1</a>\u001b[0m positive_number \u001b[39m=\u001b[39m \u001b[39mint\u001b[39;49m(\u001b[39minput\u001b[39;49m(\u001b[39m'\u001b[39;49m\u001b[39mPlease enter a positive number\u001b[39;49m\u001b[39m'\u001b[39;49m))\n\u001b[1;32m      <a href='vscode-notebook-cell:/Users/jarad/codeup_data_science/python-exercises/control_structures_exercises.ipynb#ch0000011?line=1'>2</a>\u001b[0m \u001b[39mwhile\u001b[39;00m \u001b[39mTrue\u001b[39;00m:\n\u001b[1;32m      <a href='vscode-notebook-cell:/Users/jarad/codeup_data_science/python-exercises/control_structures_exercises.ipynb#ch0000011?line=2'>3</a>\u001b[0m     \u001b[39mif\u001b[39;00m positive_number\u001b[39m.\u001b[39misdigit() \u001b[39m==\u001b[39m \u001b[39mFalse\u001b[39;00m \u001b[39mor\u001b[39;00m positive_number \u001b[39m<\u001b[39m \u001b[39m0\u001b[39m:\n",
      "\u001b[0;31mValueError\u001b[0m: invalid literal for int() with base 10: 'f'"
     ]
    }
   ],
   "source": [
    "positive_number = int(input('Please enter a positive number'))\n",
    "while True:\n",
    "    if positive_number.isdigit() == False or positive_number < 0:\n",
    "        positive_number = int(input('Please enter a positive number'))\n",
    "    else:\n",
    "        break\n",
    "        \n",
    "for number in range(0, 1000000):\n",
    "    if number == positive_number:\n",
    "        break\n",
    "    print(number)\n",
    "    \n"
   ]
  },
  {
   "cell_type": "code",
   "execution_count": 58,
   "metadata": {},
   "outputs": [
    {
     "name": "stdout",
     "output_type": "stream",
     "text": [
      "5\n",
      "4\n",
      "3\n",
      "2\n",
      "1\n"
     ]
    }
   ],
   "source": [
    "pos_number = int(input(\"Please enter a positive number\"))\n",
    "for number in range(2, pos_number + 1):\n",
    "    pos_number -= 1\n",
    "    print(pos_number)"
   ]
  },
  {
   "cell_type": "code",
   "execution_count": 64,
   "metadata": {},
   "outputs": [
    {
     "name": "stdout",
     "output_type": "stream",
     "text": [
      "1\n",
      "2\n",
      "fizz\n",
      "4\n",
      "Buzz \n",
      "fizz\n",
      "7\n",
      "8\n",
      "fizz\n",
      "Buzz \n",
      "11\n",
      "fizz\n",
      "13\n",
      "14\n",
      "FizzBuzz\n",
      "16\n",
      "17\n",
      "fizz\n",
      "19\n",
      "Buzz \n",
      "fizz\n",
      "22\n",
      "23\n",
      "fizz\n",
      "Buzz \n",
      "26\n",
      "fizz\n",
      "28\n",
      "29\n",
      "FizzBuzz\n",
      "31\n",
      "32\n",
      "fizz\n",
      "34\n",
      "Buzz \n",
      "fizz\n",
      "37\n",
      "38\n",
      "fizz\n",
      "Buzz \n",
      "41\n",
      "fizz\n",
      "43\n",
      "44\n",
      "FizzBuzz\n",
      "46\n",
      "47\n",
      "fizz\n",
      "49\n",
      "Buzz \n",
      "fizz\n",
      "52\n",
      "53\n",
      "fizz\n",
      "Buzz \n",
      "56\n",
      "fizz\n",
      "58\n",
      "59\n",
      "FizzBuzz\n",
      "61\n",
      "62\n",
      "fizz\n",
      "64\n",
      "Buzz \n",
      "fizz\n",
      "67\n",
      "68\n",
      "fizz\n",
      "Buzz \n",
      "71\n",
      "fizz\n",
      "73\n",
      "74\n",
      "FizzBuzz\n",
      "76\n",
      "77\n",
      "fizz\n",
      "79\n",
      "Buzz \n",
      "fizz\n",
      "82\n",
      "83\n",
      "fizz\n",
      "Buzz \n",
      "86\n",
      "fizz\n",
      "88\n",
      "89\n",
      "FizzBuzz\n",
      "91\n",
      "92\n",
      "fizz\n",
      "94\n",
      "Buzz \n",
      "fizz\n",
      "97\n",
      "98\n",
      "fizz\n",
      "Buzz \n"
     ]
    }
   ],
   "source": [
    "for number in range(1,101):\n",
    "    # i += 1\n",
    "    # print(i)\n",
    "    if number % 3 == 0 and number % 5 == 0:\n",
    "        print(\"FizzBuzz\")\n",
    "    elif number % 3 == 0:\n",
    "        print(\"fizz\")\n",
    "    elif number % 5 == 0:\n",
    "        print(\"Buzz \")\n",
    "    else:\n",
    "        print(number)"
   ]
  },
  {
   "cell_type": "code",
   "execution_count": 49,
   "metadata": {},
   "outputs": [
    {
     "name": "stdout",
     "output_type": "stream",
     "text": [
      "here is sort of a table\n",
      "number 0, squared 0, cubed 0\n",
      "number 1, squared 1, cubed 1\n",
      "number 2, squared 4, cubed 8\n",
      "number 3, squared 9, cubed 27\n",
      "number 4, squared 16, cubed 64\n",
      "number 5, squared 25, cubed 125\n"
     ]
    }
   ],
   "source": [
    "power_number = int(input(\"What number would you like to go up to?\"))\n",
    "print(\"here is sort of a table\")\n",
    "for number in range(0, power_number + 1):\n",
    "    print(f\"number {number}, squared {number ** 2}, cubed {number ** 3}\")\n",
    "\n",
    "\n",
    "# the formating from class solutions\n",
    "# print('number | squared | cubed')\n",
    "# print('------ | ------- | -----')\n",
    "# for i in range(1, upper_bound + 1):\n",
    "#     # right-aligned (default)\n",
    "#     print('{i:^6} |{i ** 2:7} | {I **  3:5}')\n"
   ]
  },
  {
   "cell_type": "code",
   "execution_count": 1,
   "metadata": {},
   "outputs": [
    {
     "name": "stdout",
     "output_type": "stream",
     "text": [
      "A\n"
     ]
    }
   ],
   "source": [
    "continues = \"Y\" \n",
    "\n",
    "while True:\n",
    "    grade = int(input(\"Please enter your grade\"))\n",
    "    if grade < 0 or grade > 100:\n",
    "        grade =int(input(\"Please enter a valid grade between 0 and 100\"))\n",
    "\n",
    "    if grade >= 88:\n",
    "        print(\"A\")\n",
    "    elif 88 >= grade >= 80:\n",
    "        print('B')\n",
    "    elif 79 >= grade >= 67:\n",
    "        print(\"C\")\n",
    "    elif 66 >= grade >= 60:\n",
    "        print(\"D\")\n",
    "    elif grade <= 59:\n",
    "        print(\"F\") \n",
    "    else:\n",
    "        print('Thank you')\n",
    "    continues = input('Would you like to enter another grade? Y or N')\n",
    "    if continues.lower() in ['yes', 'y']:\n",
    "        continue\n",
    "    else:\n",
    "        break\n"
   ]
  },
  {
   "cell_type": "code",
   "execution_count": 27,
   "metadata": {},
   "outputs": [
    {
     "ename": "TypeError",
     "evalue": "list indices must be integers or slices, not str",
     "output_type": "error",
     "traceback": [
      "\u001b[0;31m---------------------------------------------------------------------------\u001b[0m",
      "\u001b[0;31mTypeError\u001b[0m                                 Traceback (most recent call last)",
      "\u001b[1;32m/Users/jarad/codeup_data_science/python-exercises/control_structures_exercises.ipynb Cell 18'\u001b[0m in \u001b[0;36m<cell line: 9>\u001b[0;34m()\u001b[0m\n\u001b[1;32m      <a href='vscode-notebook-cell:/Users/jarad/codeup_data_science/python-exercises/control_structures_exercises.ipynb#ch0000018?line=5'>6</a>\u001b[0m selected_genre \u001b[39m=\u001b[39m \u001b[39minput\u001b[39m(\u001b[39m'\u001b[39m\u001b[39mPlease choose a genre between philosophy, psychology, or non fiction\u001b[39m\u001b[39m'\u001b[39m)\n\u001b[1;32m      <a href='vscode-notebook-cell:/Users/jarad/codeup_data_science/python-exercises/control_structures_exercises.ipynb#ch0000018?line=6'>7</a>\u001b[0m selected_books \u001b[39m=\u001b[39m [book \u001b[39mfor\u001b[39;00m book \u001b[39min\u001b[39;00m books \u001b[39mif\u001b[39;00m book[\u001b[39m'\u001b[39m\u001b[39mgenre\u001b[39m\u001b[39m'\u001b[39m] \u001b[39m==\u001b[39m selected_genre]\n\u001b[0;32m----> <a href='vscode-notebook-cell:/Users/jarad/codeup_data_science/python-exercises/control_structures_exercises.ipynb#ch0000018?line=8'>9</a>\u001b[0m \u001b[39mprint\u001b[39m(selected_books[\u001b[39m'\u001b[39;49m\u001b[39mtitle\u001b[39;49m\u001b[39m'\u001b[39;49m])\n",
      "\u001b[0;31mTypeError\u001b[0m: list indices must be integers or slices, not str"
     ]
    }
   ],
   "source": [
    "books = [\n",
    "    {'title': 'Zen and the Art of Motorcycle Maintenance','author': 'Robert Pirsig','genre': 'philosophy'},\n",
    "    {'title': 'Outliers','author': 'Malcolm Gladwell','genre': 'psychology'},\n",
    "    {'title': 'A Short Hisotry of Nearly Everything','author': 'Bill Bryson','genre': 'non fiction'}\n",
    "    ]\n",
    "selected_genre = input('Please choose a genre between philosophy, psychology, or non fiction')\n",
    "selected_books = [book for book in books if book['genre'] == selected_genre]\n",
    "\n",
    "print(selected_books)"
   ]
  }
 ],
 "metadata": {
  "interpreter": {
   "hash": "38cca0c38332a56087b24af0bc80247f4fced29cb4f7f437d91dc159adec9c4e"
  },
  "kernelspec": {
   "display_name": "Python 3.9.12 ('base')",
   "language": "python",
   "name": "python3"
  },
  "language_info": {
   "codemirror_mode": {
    "name": "ipython",
    "version": 3
   },
   "file_extension": ".py",
   "mimetype": "text/x-python",
   "name": "python",
   "nbconvert_exporter": "python",
   "pygments_lexer": "ipython3",
   "version": "3.9.12"
  },
  "orig_nbformat": 4
 },
 "nbformat": 4,
 "nbformat_minor": 2
}
