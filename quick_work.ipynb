{
 "cells": [
  {
   "cell_type": "code",
   "execution_count": 10,
   "metadata": {},
   "outputs": [
    {
     "name": "stdout",
     "output_type": "stream",
     "text": [
      "The future value of the investment: 3712.9300000000003 USD\n"
     ]
    }
   ],
   "source": [
    "p = 1000\n",
    "r = 0.3\n",
    "n = 1\n",
    "t = 5\n",
    "\n",
    "a = 1+ (r/n)\n",
    "\n",
    "a = a**(n*t)\n",
    "\n",
    "a = a * p\n",
    "\n",
    "\n",
    "\n",
    "print(f'The future value of the investment: {a} USD')"
   ]
  },
  {
   "cell_type": "code",
   "execution_count": 12,
   "metadata": {},
   "outputs": [
    {
     "data": {
      "text/plain": [
       "[0, 1, 2, 3, 4, 5, 6, 7, 8, 9, 10]"
      ]
     },
     "execution_count": 12,
     "metadata": {},
     "output_type": "execute_result"
    }
   ],
   "source": [
    "numbers = [*range(0,11)]\n",
    "numbers"
   ]
  },
  {
   "cell_type": "code",
   "execution_count": 16,
   "metadata": {},
   "outputs": [
    {
     "name": "stdout",
     "output_type": "stream",
     "text": [
      "330\n"
     ]
    }
   ],
   "source": [
    "numbers = [*range(0,11)]\n",
    "\n",
    "def fun(x):\n",
    "    return 10 + 4*x\n",
    "    \n",
    "result_list = [fun(n) for n in numbers]\n",
    "\n",
    "summed = sum(result_list)\n",
    "\n",
    "print (summed)"
   ]
  },
  {
   "cell_type": "code",
   "execution_count": 1,
   "metadata": {},
   "outputs": [
    {
     "data": {
      "text/plain": [
       "{'biology', 'english', 'mathematics'}"
      ]
     },
     "execution_count": 1,
     "metadata": {},
     "output_type": "execute_result"
    }
   ],
   "source": [
    "subjects = {'mathematics', 'biology'}\n",
    "\n",
    "subjects.update({'english'})\n",
    "\n",
    "subjects"
   ]
  },
  {
   "cell_type": "markdown",
   "metadata": {},
   "source": [
    "\n",
    "Follow the next steps:\n",
    "\n",
    "Change all letters to lowercase.\n",
    "\n",
    "Delete spaces and period.\n",
    "\n",
    "Create a set consisting of all letters in the text and assign to letters variable\n",
    "\n"
   ]
  },
  {
   "cell_type": "code",
   "execution_count": 4,
   "metadata": {},
   "outputs": [
    {
     "data": {
      "text/plain": [
       "'programminginpython'"
      ]
     },
     "execution_count": 4,
     "metadata": {},
     "output_type": "execute_result"
    }
   ],
   "source": [
    "text = 'Programming in python.'\n",
    "vowels = {'a', 'e', 'i', 'o', 'u'}\n",
    "\n",
    "text = text.lower().replace('.', '').replace(' ', '')\n",
    "\n",
    "text"
   ]
  },
  {
   "cell_type": "code",
   "execution_count": 6,
   "metadata": {},
   "outputs": [
    {
     "name": "stdout",
     "output_type": "stream",
     "text": [
      "<class 'NoneType'>\n",
      "<class 'bool'>\n",
      "<class 'str'>\n"
     ]
    }
   ],
   "source": [
    "var1 = None\n",
    "var2 = False\n",
    "var3 = 'True'\n",
    "\n",
    "print(type(var1))\n",
    "\n",
    "print(type(var2))\n",
    "print(type(var3))"
   ]
  },
  {
   "cell_type": "markdown",
   "metadata": {},
   "source": [
    "The following text is given:\n",
    "\n",
    "\n",
    "\n",
    "text = 'python is a popular programming language.'\n",
    "\n",
    "\n",
    "Using the appropriate method count the number of occurrences of the letter 'p' and print the result to the console as shown below."
   ]
  },
  {
   "cell_type": "code",
   "execution_count": 8,
   "metadata": {},
   "outputs": [
    {
     "data": {
      "text/plain": [
       "4"
      ]
     },
     "execution_count": 8,
     "metadata": {},
     "output_type": "execute_result"
    }
   ],
   "source": [
    "text = 'python is a popular programming language.'\n",
    "\n",
    "count = 0\n",
    "\n",
    "for i in text:\n",
    "    if i == 'p':\n",
    "        count = count + 1\n",
    "\n",
    "count"
   ]
  },
  {
   "cell_type": "code",
   "execution_count": 11,
   "metadata": {},
   "outputs": [
    {
     "name": "stdout",
     "output_type": "stream",
     "text": [
      "code1: True\n",
      "code2: False\n"
     ]
    }
   ],
   "source": [
    "code1 = 'FVNISJND-XX-2020'\n",
    "code2 = 'FVNISJND-XY-2019'\n",
    "\n",
    "x = code1.endswith('2020')\n",
    "y = code2.endswith('2020')\n",
    "\n",
    "print(f'code1: {x}')\n",
    "\n",
    "print(f'code2: {y}')"
   ]
  },
  {
   "cell_type": "markdown",
   "metadata": {},
   "source": [
    "Exercise 34\n",
    "The following paths are given:\n",
    "\n",
    "\n",
    "\n",
    "path1 = (\n",
    "    \"https://e-smartdata.teachable.com/p/\"\n",
    "    \"sciezka-data-scientist-machine-learning-engineer\"\n",
    ")\n",
    "path2 = (\n",
    "    \"https://e-smartdata.teachable.com/p/\"\n",
    "    \"sciezka-data-scientist-deep-learning-engineer\"\n",
    ")\n",
    "path3 = (\n",
    "    \"https://e-smartdata.teachable.com/p/\"\n",
    "    \"sciezka-bi-analyst-data-analyst\"\n",
    ")\n",
    "\n",
    "\n",
    "Using the appropriate method, find the word 'scientist' in the given paths, returning the index for the first letter of the found word. If the word is not in the path, the method should return -1. Print the result to the console as shown below.\n",
    "\n",
    "\n",
    "\n",
    "Expected result:\n",
    "\n",
    "\n",
    "\n",
    "path1: 49\n",
    "path2: 49\n",
    "path3: -1"
   ]
  },
  {
   "cell_type": "code",
   "execution_count": 13,
   "metadata": {},
   "outputs": [
    {
     "name": "stdout",
     "output_type": "stream",
     "text": [
      "49\n",
      "49\n",
      "-1\n"
     ]
    }
   ],
   "source": [
    "path1 = (\n",
    "    \"https://e-smartdata.teachable.com/p/\"\n",
    "    \"sciezka-data-scientist-machine-learning-engineer\"\n",
    ")\n",
    "path2 = (\n",
    "    \"https://e-smartdata.teachable.com/p/\"\n",
    "    \"sciezka-data-scientist-deep-learning-engineer\"\n",
    ")\n",
    "path3 = (\n",
    "    \"https://e-smartdata.teachable.com/p/\"\n",
    "    \"sciezka-bi-analyst-data-analyst\"\n",
    ")\n",
    "\n",
    "print(path1.find('scientist'))\n",
    "\n",
    "print(path2.find('scientist'))\n",
    "print(path3.find('scientist'))"
   ]
  },
  {
   "cell_type": "code",
   "execution_count": null,
   "metadata": {},
   "outputs": [],
   "source": []
  }
 ],
 "metadata": {
  "kernelspec": {
   "display_name": "Python 3.9.12 ('base')",
   "language": "python",
   "name": "python3"
  },
  "language_info": {
   "codemirror_mode": {
    "name": "ipython",
    "version": 3
   },
   "file_extension": ".py",
   "mimetype": "text/x-python",
   "name": "python",
   "nbconvert_exporter": "python",
   "pygments_lexer": "ipython3",
   "version": "3.9.12"
  },
  "orig_nbformat": 4,
  "vscode": {
   "interpreter": {
    "hash": "38cca0c38332a56087b24af0bc80247f4fced29cb4f7f437d91dc159adec9c4e"
   }
  }
 },
 "nbformat": 4,
 "nbformat_minor": 2
}
