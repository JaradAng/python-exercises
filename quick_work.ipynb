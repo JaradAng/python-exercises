{
 "cells": [
  {
   "cell_type": "code",
   "execution_count": 10,
   "metadata": {},
   "outputs": [
    {
     "name": "stdout",
     "output_type": "stream",
     "text": [
      "The future value of the investment: 3712.9300000000003 USD\n"
     ]
    }
   ],
   "source": [
    "p = 1000\n",
    "r = 0.3\n",
    "n = 1\n",
    "t = 5\n",
    "\n",
    "a = 1+ (r/n)\n",
    "\n",
    "a = a**(n*t)\n",
    "\n",
    "a = a * p\n",
    "\n",
    "\n",
    "\n",
    "print(f'The future value of the investment: {a} USD')"
   ]
  },
  {
   "cell_type": "code",
   "execution_count": 12,
   "metadata": {},
   "outputs": [
    {
     "data": {
      "text/plain": [
       "[0, 1, 2, 3, 4, 5, 6, 7, 8, 9, 10]"
      ]
     },
     "execution_count": 12,
     "metadata": {},
     "output_type": "execute_result"
    }
   ],
   "source": [
    "numbers = [*range(0,11)]\n",
    "numbers"
   ]
  },
  {
   "cell_type": "code",
   "execution_count": 16,
   "metadata": {},
   "outputs": [
    {
     "name": "stdout",
     "output_type": "stream",
     "text": [
      "330\n"
     ]
    }
   ],
   "source": [
    "numbers = [*range(0,11)]\n",
    "\n",
    "def fun(x):\n",
    "    return 10 + 4*x\n",
    "    \n",
    "result_list = [fun(n) for n in numbers]\n",
    "\n",
    "summed = sum(result_list)\n",
    "\n",
    "print (summed)"
   ]
  },
  {
   "cell_type": "code",
   "execution_count": 1,
   "metadata": {},
   "outputs": [
    {
     "data": {
      "text/plain": [
       "{'biology', 'english', 'mathematics'}"
      ]
     },
     "execution_count": 1,
     "metadata": {},
     "output_type": "execute_result"
    }
   ],
   "source": [
    "subjects = {'mathematics', 'biology'}\n",
    "\n",
    "subjects.update({'english'})\n",
    "\n",
    "subjects"
   ]
  },
  {
   "cell_type": "markdown",
   "metadata": {},
   "source": [
    "\n",
    "Follow the next steps:\n",
    "\n",
    "Change all letters to lowercase.\n",
    "\n",
    "Delete spaces and period.\n",
    "\n",
    "Create a set consisting of all letters in the text and assign to letters variable\n",
    "\n"
   ]
  },
  {
   "cell_type": "code",
   "execution_count": 14,
   "metadata": {},
   "outputs": [
    {
     "name": "stdout",
     "output_type": "stream",
     "text": [
      "Number of items: 8\n"
     ]
    }
   ],
   "source": [
    "text = 'Programming in python.'\n",
    "vowels = {'a', 'e', 'i', 'o', 'u'}\n",
    "\n",
    "text = text.lower().replace('.', '').replace(' ', '')\n",
    "\n",
    "letters = set(text)\n",
    "consonants = letters.difference(vowels)\n",
    "print(f'Number of items: {len(consonants)}')"
   ]
  },
  {
   "cell_type": "code",
   "execution_count": 6,
   "metadata": {},
   "outputs": [
    {
     "name": "stdout",
     "output_type": "stream",
     "text": [
      "<class 'NoneType'>\n",
      "<class 'bool'>\n",
      "<class 'str'>\n"
     ]
    }
   ],
   "source": [
    "var1 = None\n",
    "var2 = False\n",
    "var3 = 'True'\n",
    "\n",
    "print(type(var1))\n",
    "\n",
    "print(type(var2))\n",
    "print(type(var3))"
   ]
  },
  {
   "cell_type": "markdown",
   "metadata": {},
   "source": [
    "The following text is given:\n",
    "\n",
    "\n",
    "\n",
    "text = 'python is a popular programming language.'\n",
    "\n",
    "\n",
    "Using the appropriate method count the number of occurrences of the letter 'p' and print the result to the console as shown below."
   ]
  },
  {
   "cell_type": "code",
   "execution_count": 8,
   "metadata": {},
   "outputs": [
    {
     "data": {
      "text/plain": [
       "4"
      ]
     },
     "execution_count": 8,
     "metadata": {},
     "output_type": "execute_result"
    }
   ],
   "source": [
    "text = 'python is a popular programming language.'\n",
    "\n",
    "count = 0\n",
    "\n",
    "for i in text:\n",
    "    if i == 'p':\n",
    "        count = count + 1\n",
    "\n",
    "count"
   ]
  },
  {
   "cell_type": "code",
   "execution_count": 11,
   "metadata": {},
   "outputs": [
    {
     "name": "stdout",
     "output_type": "stream",
     "text": [
      "code1: True\n",
      "code2: False\n"
     ]
    }
   ],
   "source": [
    "code1 = 'FVNISJND-XX-2020'\n",
    "code2 = 'FVNISJND-XY-2019'\n",
    "\n",
    "x = code1.endswith('2020')\n",
    "y = code2.endswith('2020')\n",
    "\n",
    "print(f'code1: {x}')\n",
    "\n",
    "print(f'code2: {y}')"
   ]
  },
  {
   "cell_type": "markdown",
   "metadata": {},
   "source": [
    "Exercise 34\n",
    "The following paths are given:\n",
    "\n",
    "\n",
    "\n",
    "path1 = (\n",
    "    \"https://e-smartdata.teachable.com/p/\"\n",
    "    \"sciezka-data-scientist-machine-learning-engineer\"\n",
    ")\n",
    "path2 = (\n",
    "    \"https://e-smartdata.teachable.com/p/\"\n",
    "    \"sciezka-data-scientist-deep-learning-engineer\"\n",
    ")\n",
    "path3 = (\n",
    "    \"https://e-smartdata.teachable.com/p/\"\n",
    "    \"sciezka-bi-analyst-data-analyst\"\n",
    ")\n",
    "\n",
    "\n",
    "Using the appropriate method, find the word 'scientist' in the given paths, returning the index for the first letter of the found word. If the word is not in the path, the method should return -1. Print the result to the console as shown below.\n",
    "\n",
    "\n",
    "\n",
    "Expected result:\n",
    "\n",
    "\n",
    "\n",
    "path1: 49\n",
    "path2: 49\n",
    "path3: -1"
   ]
  },
  {
   "cell_type": "code",
   "execution_count": 13,
   "metadata": {},
   "outputs": [
    {
     "name": "stdout",
     "output_type": "stream",
     "text": [
      "49\n",
      "49\n",
      "-1\n"
     ]
    }
   ],
   "source": [
    "path1 = (\n",
    "    \"https://e-smartdata.teachable.com/p/\"\n",
    "    \"sciezka-data-scientist-machine-learning-engineer\"\n",
    ")\n",
    "path2 = (\n",
    "    \"https://e-smartdata.teachable.com/p/\"\n",
    "    \"sciezka-data-scientist-deep-learning-engineer\"\n",
    ")\n",
    "path3 = (\n",
    "    \"https://e-smartdata.teachable.com/p/\"\n",
    "    \"sciezka-bi-analyst-data-analyst\"\n",
    ")\n",
    "\n",
    "print(path1.find('scientist'))\n",
    "\n",
    "print(path2.find('scientist'))\n",
    "print(path3.find('scientist'))"
   ]
  },
  {
   "cell_type": "code",
   "execution_count": 15,
   "metadata": {},
   "outputs": [
    {
     "data": {
      "text/plain": [
       "('AAPL.US', 'IBM.US', 'MSFT.US', 'HD.US', 'GS.US', 'NKE.US')"
      ]
     },
     "execution_count": 15,
     "metadata": {},
     "output_type": "execute_result"
    }
   ],
   "source": [
    "dji1 = ('AAPL.US', 'IBM.US', 'MSFT.US')\n",
    "dji2 = ('HD.US', 'GS.US', 'NKE.US')\n",
    "\n",
    "res = dji1 + dji2\n",
    "\n",
    "res"
   ]
  },
  {
   "cell_type": "code",
   "execution_count": 17,
   "metadata": {},
   "outputs": [
    {
     "data": {
      "text/plain": [
       "(('AAPL.US', 'IBM.US', 'MSFT.US'), ('HD.US', 'GS.US', 'NKE.US'))"
      ]
     },
     "execution_count": 17,
     "metadata": {},
     "output_type": "execute_result"
    }
   ],
   "source": [
    "dji1 = ('AAPL.US', 'IBM.US', 'MSFT.US')\n",
    "dji2 = ('HD.US', 'GS.US', 'NKE.US')\n",
    "\n",
    "res = ((dji1, ) + (dji2, ))\n",
    "\n",
    "res"
   ]
  },
  {
   "cell_type": "code",
   "execution_count": 23,
   "metadata": {},
   "outputs": [
    {
     "ename": "TypeError",
     "evalue": "'str' object cannot be interpreted as an integer",
     "output_type": "error",
     "traceback": [
      "\u001b[0;31m---------------------------------------------------------------------------\u001b[0m",
      "\u001b[0;31mTypeError\u001b[0m                                 Traceback (most recent call last)",
      "\u001b[1;32m/Users/jarad/codeup_data_science/python-exercises/quick_work.ipynb Cell 15\u001b[0m in \u001b[0;36m<cell line: 5>\u001b[0;34m()\u001b[0m\n\u001b[1;32m      <a href='vscode-notebook-cell:/Users/jarad/codeup_data_science/python-exercises/quick_work.ipynb#X20sZmlsZQ%3D%3D?line=0'>1</a>\u001b[0m members \u001b[39m=\u001b[39m ((\u001b[39m'\u001b[39m\u001b[39mKate\u001b[39m\u001b[39m'\u001b[39m, \u001b[39m23\u001b[39m), (\u001b[39m'\u001b[39m\u001b[39mTom\u001b[39m\u001b[39m'\u001b[39m, \u001b[39m19\u001b[39m))\n\u001b[1;32m      <a href='vscode-notebook-cell:/Users/jarad/codeup_data_science/python-exercises/quick_work.ipynb#X20sZmlsZQ%3D%3D?line=2'>3</a>\u001b[0m members \u001b[39m=\u001b[39m \u001b[39mlist\u001b[39m(members)\n\u001b[0;32m----> <a href='vscode-notebook-cell:/Users/jarad/codeup_data_science/python-exercises/quick_work.ipynb#X20sZmlsZQ%3D%3D?line=4'>5</a>\u001b[0m members\u001b[39m.\u001b[39;49minsert(\u001b[39m'\u001b[39;49m\u001b[39mJohn\u001b[39;49m\u001b[39m'\u001b[39;49m, \u001b[39m'\u001b[39;49m\u001b[39m26\u001b[39;49m\u001b[39m'\u001b[39;49m)\n\u001b[1;32m      <a href='vscode-notebook-cell:/Users/jarad/codeup_data_science/python-exercises/quick_work.ipynb#X20sZmlsZQ%3D%3D?line=6'>7</a>\u001b[0m members \u001b[39m=\u001b[39m \u001b[39mtuple\u001b[39m(members)\n",
      "\u001b[0;31mTypeError\u001b[0m: 'str' object cannot be interpreted as an integer"
     ]
    }
   ],
   "source": [
    "members = (('Kate', 23), ('Tom', 19))\n",
    "\n",
    "members = list(members)\n",
    "\n",
    "members.insert('John', 26)\n",
    "\n",
    "members = tuple(members)"
   ]
  },
  {
   "cell_type": "code",
   "execution_count": 26,
   "metadata": {},
   "outputs": [
    {
     "name": "stdout",
     "output_type": "stream",
     "text": [
      "The number of occurances: 2\n"
     ]
    }
   ],
   "source": [
    "default = ('YES', 'NO', 'NO', 'YES', 'NO')\n",
    "\n",
    "print('The number of occurances:', default.count('YES'))"
   ]
  },
  {
   "cell_type": "code",
   "execution_count": 31,
   "metadata": {},
   "outputs": [
    {
     "name": "stdout",
     "output_type": "stream",
     "text": [
      "('Monica', 'Tom', 'John', 'Michael')\n"
     ]
    }
   ],
   "source": [
    "names = ('Monica', 'Tom', 'John', 'Michael')\n",
    "\n",
    "list(names).sort()\n",
    "\n",
    "print(names)"
   ]
  },
  {
   "cell_type": "code",
   "execution_count": 34,
   "metadata": {},
   "outputs": [
    {
     "ename": "TypeError",
     "evalue": "'tuple' object is not callable",
     "output_type": "error",
     "traceback": [
      "\u001b[0;31m---------------------------------------------------------------------------\u001b[0m",
      "\u001b[0;31mTypeError\u001b[0m                                 Traceback (most recent call last)",
      "\u001b[1;32m/Users/jarad/codeup_data_science/python-exercises/quick_work.ipynb Cell 18\u001b[0m in \u001b[0;36m<cell line: 3>\u001b[0;34m()\u001b[0m\n\u001b[1;32m      <a href='vscode-notebook-cell:/Users/jarad/codeup_data_science/python-exercises/quick_work.ipynb#X23sZmlsZQ%3D%3D?line=0'>1</a>\u001b[0m names \u001b[39m=\u001b[39m (\u001b[39m'\u001b[39m\u001b[39mMonica\u001b[39m\u001b[39m'\u001b[39m, \u001b[39m'\u001b[39m\u001b[39mTom\u001b[39m\u001b[39m'\u001b[39m, \u001b[39m'\u001b[39m\u001b[39mJohn\u001b[39m\u001b[39m'\u001b[39m, \u001b[39m'\u001b[39m\u001b[39mMichael\u001b[39m\u001b[39m'\u001b[39m)\n\u001b[0;32m----> <a href='vscode-notebook-cell:/Users/jarad/codeup_data_science/python-exercises/quick_work.ipynb#X23sZmlsZQ%3D%3D?line=2'>3</a>\u001b[0m \u001b[39msorted\u001b[39m \u001b[39m=\u001b[39m \u001b[39mtuple\u001b[39m(\u001b[39msorted\u001b[39;49m(names))\n\u001b[1;32m      <a href='vscode-notebook-cell:/Users/jarad/codeup_data_science/python-exercises/quick_work.ipynb#X23sZmlsZQ%3D%3D?line=4'>5</a>\u001b[0m \u001b[39mprint\u001b[39m(\u001b[39msorted\u001b[39m)\n",
      "\u001b[0;31mTypeError\u001b[0m: 'tuple' object is not callable"
     ]
    }
   ],
   "source": [
    "names = ('Monica', 'Tom', 'John', 'Michael')\n",
    "\n",
    "sortit = tuple(sorted(names))\n",
    "\n",
    "print(sorted)"
   ]
  },
  {
   "cell_type": "code",
   "execution_count": 41,
   "metadata": {},
   "outputs": [
    {
     "ename": "TypeError",
     "evalue": "'tuple' object is not callable",
     "output_type": "error",
     "traceback": [
      "\u001b[0;31m---------------------------------------------------------------------------\u001b[0m",
      "\u001b[0;31mTypeError\u001b[0m                                 Traceback (most recent call last)",
      "\u001b[1;32m/Users/jarad/codeup_data_science/python-exercises/quick_work.ipynb Cell 19\u001b[0m in \u001b[0;36m<cell line: 3>\u001b[0;34m()\u001b[0m\n\u001b[1;32m      <a href='vscode-notebook-cell:/Users/jarad/codeup_data_science/python-exercises/quick_work.ipynb#X24sZmlsZQ%3D%3D?line=0'>1</a>\u001b[0m info \u001b[39m=\u001b[39m ((\u001b[39m'\u001b[39m\u001b[39mMonica\u001b[39m\u001b[39m'\u001b[39m, \u001b[39m19\u001b[39m), (\u001b[39m'\u001b[39m\u001b[39mTom\u001b[39m\u001b[39m'\u001b[39m, \u001b[39m21\u001b[39m), (\u001b[39m'\u001b[39m\u001b[39mJohn\u001b[39m\u001b[39m'\u001b[39m, \u001b[39m18\u001b[39m))\n\u001b[0;32m----> <a href='vscode-notebook-cell:/Users/jarad/codeup_data_science/python-exercises/quick_work.ipynb#X24sZmlsZQ%3D%3D?line=2'>3</a>\u001b[0m up \u001b[39m=\u001b[39m \u001b[39mtuple\u001b[39m(\u001b[39msorted\u001b[39;49m(info, key \u001b[39m=\u001b[39;49m \u001b[39mlambda\u001b[39;49;00m x: x[\u001b[39m1\u001b[39;49m]))\n\u001b[1;32m      <a href='vscode-notebook-cell:/Users/jarad/codeup_data_science/python-exercises/quick_work.ipynb#X24sZmlsZQ%3D%3D?line=3'>4</a>\u001b[0m down \u001b[39m=\u001b[39m \u001b[39mtuple\u001b[39m(\u001b[39msorted\u001b[39m(info, key\u001b[39m=\u001b[39m\u001b[39mlambda\u001b[39;00m x: x[\u001b[39m1\u001b[39m], reverse \u001b[39m=\u001b[39m \u001b[39mTrue\u001b[39;00m))\n\u001b[1;32m      <a href='vscode-notebook-cell:/Users/jarad/codeup_data_science/python-exercises/quick_work.ipynb#X24sZmlsZQ%3D%3D?line=5'>6</a>\u001b[0m \u001b[39mprint\u001b[39m(\u001b[39mf\u001b[39m\u001b[39m'\u001b[39m\u001b[39mAscending: \u001b[39m\u001b[39m{\u001b[39;00mup\u001b[39m}\u001b[39;00m\u001b[39m'\u001b[39m)\n",
      "\u001b[0;31mTypeError\u001b[0m: 'tuple' object is not callable"
     ]
    }
   ],
   "source": [
    "info = (('Monica', 19), ('Tom', 21), ('John', 18))\n",
    "\n",
    "up = tuple(sorted(info, key = lambda x: x[1]))\n",
    "down = tuple(sorted(info, key=lambda x: x[1], reverse = True))\n",
    "\n",
    "print(f'Ascending: {up}')\n",
    "print(f'Descending: {down}')"
   ]
  },
  {
   "cell_type": "code",
   "execution_count": 45,
   "metadata": {},
   "outputs": [
    {
     "data": {
      "text/plain": [
       "'AAPL.US'"
      ]
     },
     "execution_count": 45,
     "metadata": {},
     "output_type": "execute_result"
    }
   ],
   "source": [
    "stocks = (('Apple Inc', ('AAPL.US', 310)), ('Microsoft Corp', ('MSFT.US', 184)))\n",
    "\n",
    "x = stocks[0][1][0]\n",
    "x\n"
   ]
  },
  {
   "cell_type": "code",
   "execution_count": 52,
   "metadata": {},
   "outputs": [
    {
     "data": {
      "text/plain": [
       "['a', 'g', 'h', 'i', 'm', 'n', 'o', 'p', 'r', 't', 'y']"
      ]
     },
     "execution_count": 52,
     "metadata": {},
     "output_type": "execute_result"
    }
   ],
   "source": [
    "text = 'Python programming'\n",
    "\n",
    "text = text.lower().replace(' ', '')\n",
    "\n",
    "text = set(text)\n",
    "\n",
    "text = list(text)\n",
    "\n",
    "text.sort()\n",
    "\n",
    "text\n",
    "\n"
   ]
  },
  {
   "cell_type": "code",
   "execution_count": 60,
   "metadata": {},
   "outputs": [
    {
     "ename": "AttributeError",
     "evalue": "'list' object has no attribute 'join'",
     "output_type": "error",
     "traceback": [
      "\u001b[0;31m---------------------------------------------------------------------------\u001b[0m",
      "\u001b[0;31mAttributeError\u001b[0m                            Traceback (most recent call last)",
      "\u001b[1;32m/Users/jarad/codeup_data_science/python-exercises/quick_work.ipynb Cell 22\u001b[0m in \u001b[0;36m<cell line: 5>\u001b[0;34m()\u001b[0m\n\u001b[1;32m      <a href='vscode-notebook-cell:/Users/jarad/codeup_data_science/python-exercises/quick_work.ipynb#X30sZmlsZQ%3D%3D?line=0'>1</a>\u001b[0m hashtags \u001b[39m=\u001b[39m [\u001b[39m'\u001b[39m\u001b[39msummer\u001b[39m\u001b[39m'\u001b[39m, \u001b[39m'\u001b[39m\u001b[39mtime\u001b[39m\u001b[39m'\u001b[39m, \u001b[39m'\u001b[39m\u001b[39mvibes\u001b[39m\u001b[39m'\u001b[39m]\n\u001b[1;32m      <a href='vscode-notebook-cell:/Users/jarad/codeup_data_science/python-exercises/quick_work.ipynb#X30sZmlsZQ%3D%3D?line=2'>3</a>\u001b[0m hashes \u001b[39m=\u001b[39m [\u001b[39m'\u001b[39m\u001b[39m#\u001b[39m\u001b[39m'\u001b[39m \u001b[39m+\u001b[39m hasht \u001b[39mfor\u001b[39;00m hasht \u001b[39min\u001b[39;00m hashtags]\n\u001b[0;32m----> <a href='vscode-notebook-cell:/Users/jarad/codeup_data_science/python-exercises/quick_work.ipynb#X30sZmlsZQ%3D%3D?line=4'>5</a>\u001b[0m hashes \u001b[39m=\u001b[39m hashes\u001b[39m.\u001b[39;49mjoin(hashes)\n",
      "\u001b[0;31mAttributeError\u001b[0m: 'list' object has no attribute 'join'"
     ]
    }
   ],
   "source": [
    "hashtags = ['summer', 'time', 'vibes']\n",
    "\n",
    "hashes = ['#' + hasht for hasht in hashtags]\n",
    "\n",
    "hashes = hashes.join(hashes)"
   ]
  },
  {
   "cell_type": "code",
   "execution_count": 62,
   "metadata": {},
   "outputs": [
    {
     "data": {
      "text/plain": [
       "dict_keys(['USA', 'Germany', 'Austria'])"
      ]
     },
     "execution_count": 62,
     "metadata": {},
     "output_type": "execute_result"
    }
   ],
   "source": [
    "\n",
    "my_dict = {'USA': 'Washington',\n",
    "'Germany': 'Berlin',\n",
    "'Austria': 'Vienna'}\n",
    "\n",
    "my_dict.keys()"
   ]
  },
  {
   "cell_type": "code",
   "execution_count": 63,
   "metadata": {},
   "outputs": [
    {
     "data": {
      "text/plain": [
       "dict_values(['Washington', 'Berlin', 'Vienna'])"
      ]
     },
     "execution_count": 63,
     "metadata": {},
     "output_type": "execute_result"
    }
   ],
   "source": [
    "my_dict.values()"
   ]
  },
  {
   "cell_type": "code",
   "execution_count": 65,
   "metadata": {},
   "outputs": [],
   "source": [
    "dict_items = [(k ,v)for k, v in my_dict.items()]"
   ]
  },
  {
   "cell_type": "code",
   "execution_count": 67,
   "metadata": {},
   "outputs": [
    {
     "data": {
      "text/plain": [
       "{'MSFT.US': {'Microsoft Corp': 184},\n",
       " 'AAPL.US': {'Apple Inc': 310},\n",
       " 'MMM.US': {'3M Co': 148},\n",
       " 'Microsoft Corp': 190}"
      ]
     },
     "execution_count": 67,
     "metadata": {},
     "output_type": "execute_result"
    }
   ],
   "source": [
    "stocks = {\n",
    "    'MSFT.US': {'Microsoft Corp': 184},\n",
    "    'AAPL.US': {'Apple Inc': 310},\n",
    "    'MMM.US': {'3M Co': 148}\n",
    "}\n",
    "\n",
    "stocks.update({'Microsoft Corp':190})\n",
    "\n",
    "stocks"
   ]
  },
  {
   "cell_type": "code",
   "execution_count": 68,
   "metadata": {},
   "outputs": [],
   "source": [
    "stocks['MSFT.US']['Microsoft Corp'] = 190"
   ]
  },
  {
   "cell_type": "code",
   "execution_count": 69,
   "metadata": {},
   "outputs": [
    {
     "data": {
      "text/plain": [
       "{'MSFT.US': {'Microsoft Corp': 190},\n",
       " 'AAPL.US': {'Apple Inc': 310},\n",
       " 'MMM.US': {'3M Co': 148},\n",
       " 'Microsoft Corp': 190}"
      ]
     },
     "execution_count": 69,
     "metadata": {},
     "output_type": "execute_result"
    }
   ],
   "source": [
    "stocks"
   ]
  },
  {
   "cell_type": "code",
   "execution_count": null,
   "metadata": {},
   "outputs": [],
   "source": []
  }
 ],
 "metadata": {
  "kernelspec": {
   "display_name": "Python 3.9.12 ('base')",
   "language": "python",
   "name": "python3"
  },
  "language_info": {
   "codemirror_mode": {
    "name": "ipython",
    "version": 3
   },
   "file_extension": ".py",
   "mimetype": "text/x-python",
   "name": "python",
   "nbconvert_exporter": "python",
   "pygments_lexer": "ipython3",
   "version": "3.9.12"
  },
  "orig_nbformat": 4,
  "vscode": {
   "interpreter": {
    "hash": "38cca0c38332a56087b24af0bc80247f4fced29cb4f7f437d91dc159adec9c4e"
   }
  }
 },
 "nbformat": 4,
 "nbformat_minor": 2
}
