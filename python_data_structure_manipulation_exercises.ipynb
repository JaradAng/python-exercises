{
 "cells": [
  {
   "cell_type": "code",
   "execution_count": 80,
   "metadata": {},
   "outputs": [],
   "source": [
    "students = [\n",
    "    {\n",
    "        \"id\": \"100001\",\n",
    "        \"student\": \"Ada Lovelace\",\n",
    "        \"coffee_preference\": \"light\",\n",
    "        \"course\": \"web development\",\n",
    "        \"grades\": [70, 91, 82, 71],\n",
    "        \"pets\": [{\"species\": \"horse\", \"age\": 8}],\n",
    "    },\n",
    "    {\n",
    "        \"id\": \"100002\",\n",
    "        \"student\": \"Thomas Bayes\",\n",
    "        \"coffee_preference\": \"medium\",\n",
    "        \"course\": \"data science\",\n",
    "        \"grades\": [75, 73, 86, 100],\n",
    "        \"pets\": [],\n",
    "    },\n",
    "    {\n",
    "        \"id\": \"100003\",\n",
    "        \"student\": \"Marie Curie\",\n",
    "        \"coffee_preference\": \"light\",\n",
    "        \"course\": \"web development\",\n",
    "        \"grades\": [70, 89, 69, 65],\n",
    "        \"pets\": [{\"species\": \"cat\", \"age\": 0}],\n",
    "    },\n",
    "    {\n",
    "        \"id\": \"100004\",\n",
    "        \"student\": \"Grace Hopper\",\n",
    "        \"coffee_preference\": \"dark\",\n",
    "        \"course\": \"data science\",\n",
    "        \"grades\": [73, 66, 83, 92],\n",
    "        \"pets\": [{\"species\": \"dog\", \"age\": 4}, {\"species\": \"cat\", \"age\": 4}],\n",
    "    },\n",
    "    {\n",
    "        \"id\": \"100005\",\n",
    "        \"student\": \"Alan Turing\",\n",
    "        \"coffee_preference\": \"dark\",\n",
    "        \"course\": \"web development\",\n",
    "        \"grades\": [78, 98, 85, 65],\n",
    "        \"pets\": [\n",
    "            {\"species\": \"horse\", \"age\": 6},\n",
    "            {\"species\": \"horse\", \"age\": 7},\n",
    "            {\"species\": \"dog\", \"age\": 5},\n",
    "        ],\n",
    "    },\n",
    "    {\n",
    "        \"id\": \"100006\",\n",
    "        \"student\": \"Rosalind Franklin\",\n",
    "        \"coffee_preference\": \"dark\",\n",
    "        \"course\": \"data science\",\n",
    "        \"grades\": [76, 70, 96, 81],\n",
    "        \"pets\": [],\n",
    "    },\n",
    "    {\n",
    "        \"id\": \"100007\",\n",
    "        \"student\": \"Elizabeth Blackwell\",\n",
    "        \"coffee_preference\": \"dark\",\n",
    "        \"course\": \"web development\",\n",
    "        \"grades\": [69, 94, 89, 86],\n",
    "        \"pets\": [{\"species\": \"cat\", \"age\": 10}],\n",
    "    },\n",
    "    {\n",
    "        \"id\": \"100008\",\n",
    "        \"student\": \"Rene Descartes\",\n",
    "        \"coffee_preference\": \"medium\",\n",
    "        \"course\": \"data science\",\n",
    "        \"grades\": [87, 79, 90, 99],\n",
    "        \"pets\": [{\"species\": \"cat\", \"age\": 10}, {\"species\": \"cat\", \"age\": 8}],\n",
    "    },\n",
    "    {\n",
    "        \"id\": \"100009\",\n",
    "        \"student\": \"Ahmed Zewail\",\n",
    "        \"coffee_preference\": \"medium\",\n",
    "        \"course\": \"data science\",\n",
    "        \"grades\": [74, 99, 93, 89],\n",
    "        \"pets\": [{\"species\": \"cat\", \"age\": 0}, {\"species\": \"cat\", \"age\": 0}],\n",
    "    },\n",
    "    {\n",
    "        \"id\": \"100010\",\n",
    "        \"student\": \"Chien-Shiung Wu\",\n",
    "        \"coffee_preference\": \"medium\",\n",
    "        \"course\": \"web development\",\n",
    "        \"grades\": [82, 92, 91, 65],\n",
    "        \"pets\": [{\"species\": \"cat\", \"age\": 8}],\n",
    "    },\n",
    "    {\n",
    "        \"id\": \"100011\",\n",
    "        \"student\": \"William Sanford Nye\",\n",
    "        \"coffee_preference\": \"dark\",\n",
    "        \"course\": \"data science\",\n",
    "        \"grades\": [70, 92, 65, 99],\n",
    "        \"pets\": [{\"species\": \"cat\", \"age\": 8}, {\"species\": \"cat\", \"age\": 5}],\n",
    "    },\n",
    "    {\n",
    "        \"id\": \"100012\",\n",
    "        \"student\": \"Carl Sagan\",\n",
    "        \"coffee_preference\": \"medium\",\n",
    "        \"course\": \"data science\",\n",
    "        \"grades\": [100, 86, 91, 87],\n",
    "        \"pets\": [{\"species\": \"cat\", \"age\": 10}],\n",
    "    },\n",
    "    {\n",
    "        \"id\": \"100013\",\n",
    "        \"student\": \"Jane Goodall\",\n",
    "        \"coffee_preference\": \"light\",\n",
    "        \"course\": \"web development\",\n",
    "        \"grades\": [80, 70, 68, 98],\n",
    "        \"pets\": [{\"species\": \"horse\", \"age\": 4}],\n",
    "    },\n",
    "    {\n",
    "        \"id\": \"100014\",\n",
    "        \"student\": \"Richard Feynman\",\n",
    "        \"coffee_preference\": \"medium\",\n",
    "        \"course\": \"web development\",\n",
    "        \"grades\": [73, 99, 86, 98],\n",
    "        \"pets\": [{\"species\": \"dog\", \"age\": 6}],\n",
    "    },\n",
    "]"
   ]
  },
  {
   "cell_type": "code",
   "execution_count": 4,
   "metadata": {},
   "outputs": [
    {
     "name": "stdout",
     "output_type": "stream",
     "text": [
      "14\n"
     ]
    }
   ],
   "source": [
    "# How many students are there?\n",
    "total = len(students)\n",
    "print(total)"
   ]
  },
  {
   "cell_type": "code",
   "execution_count": 5,
   "metadata": {},
   "outputs": [
    {
     "name": "stdout",
     "output_type": "stream",
     "text": [
      "Number prefer light is 3, medium is 6, dark is 5\n"
     ]
    }
   ],
   "source": [
    "# How many students prefer light coffee? For each type of coffee roast?\n",
    "dark_count = 0\n",
    "med_count = 0\n",
    "light_count = 0\n",
    "for student in students:\n",
    "       ## count = 0\n",
    "       preference = student[\"coffee_preference\"]\n",
    "       if preference == \"light\":\n",
    "           light_count += 1\n",
    "       elif preference == \"medium\":\n",
    "           med_count += 1\n",
    "       elif preference == \"dark\":\n",
    "           dark_count += 1\n",
    "        \n",
    "print(f\"Number prefer light is {light_count}, medium is {med_count}, dark is {dark_count}\")\n",
    "    \n",
    "    "
   ]
  },
  {
   "cell_type": "code",
   "execution_count": 19,
   "metadata": {},
   "outputs": [
    {
     "name": "stdout",
     "output_type": "stream",
     "text": [
      "{'horse': 4, 'cat': 11, 'dog': 3}\n"
     ]
    }
   ],
   "source": [
    "# How many types of each pet are there?\n",
    "#number_of_pets = 0\n",
    "pet_species = []\n",
    "for student in students:\n",
    "    pets = student['pets']\n",
    "    \n",
    "    for pet in pets:\n",
    "        ##print(pet)\n",
    "        if len(pet) > 0:\n",
    "            specie = pet['species']\n",
    "            ##print(specie)\n",
    "            pet_species.append(specie)\n",
    "            #number_of_pets += 1\n",
    "            #print(pet_species)\n",
    "number_of_types = {pet:pet_species.count(pet) for pet in pet_species }\n",
    "print(number_of_types)"
   ]
  },
  {
   "cell_type": "code",
   "execution_count": 112,
   "metadata": {},
   "outputs": [
    {
     "name": "stdout",
     "output_type": "stream",
     "text": [
      "4\n",
      "They all have 4 grades\n"
     ]
    }
   ],
   "source": [
    "# How many grades does each student have? Do they all have the same number of grades?\n",
    "number_of_grades = 0\n",
    "for student in students:\n",
    "    grade = student['grades']\n",
    "    num_grades = len(grade)\n",
    "print(num_grades)\n",
    "\n",
    "for student in students:\n",
    "    grade_same = len(student['grades'])\n",
    "    if grade_same == grade_same:\n",
    "        same_number = grade_same\n",
    "print(f'They all have {same_number} grades')\n",
    "#     for num_grades in student:\n",
    "#      for grade in num_grades:\n",
    "#          number_of_grades += 1\n",
    "# grades_per_student = {grade:student for grade in num_grades}\n",
    "# print(grades_per_student)"
   ]
  },
  {
   "cell_type": "code",
   "execution_count": 63,
   "metadata": {},
   "outputs": [
    {
     "name": "stdout",
     "output_type": "stream",
     "text": [
      "[78.5, 83.5, 73.25, 78.5, 81.5, 80.75, 84.5, 88.75, 88.75, 82.5, 81.5, 91.0, 79.0, 89.0]\n"
     ]
    }
   ],
   "source": [
    "# What is each student's grade average?\n",
    "stu_avg_grade =  []\n",
    "number_of_grades = 0\n",
    "for student in students:\n",
    "    grade = sum(student['grades']) / len(student['grades'])\n",
    "    stu_avg_grade.append(grade)\n",
    "print(stu_avg_grade)\n",
    "    "
   ]
  },
  {
   "cell_type": "code",
   "execution_count": 76,
   "metadata": {},
   "outputs": [
    {
     "name": "stdout",
     "output_type": "stream",
     "text": [
      "[1, 0, 1, 2, 3, 0, 1, 2, 2, 1, 2, 1, 1, 1]\n"
     ]
    }
   ],
   "source": [
    "# How many pets does each student have?\n",
    "number_of_pet = []\n",
    "for student in students:\n",
    "    pets = student['pets']\n",
    "    pet_number = len(pets)\n",
    "    #for pet in pets:\n",
    "        #if len(pet) > 0:\n",
    "    number_of_pet.append(pet_number)        \n",
    "print(number_of_pet)        \n"
   ]
  },
  {
   "cell_type": "code",
   "execution_count": 79,
   "metadata": {},
   "outputs": [
    {
     "name": "stdout",
     "output_type": "stream",
     "text": [
      "the amount of students in web development is 7 and the amount in data science is 7\n"
     ]
    }
   ],
   "source": [
    "# How many students are in web development? data science?\n",
    "web_count = 0\n",
    "data_count = 0\n",
    "for student in students:\n",
    "    course = student['course']\n",
    "    #print(course)\n",
    "    if course == 'web development':\n",
    "        web_count += 1\n",
    "    else:\n",
    "        data_count += 1\n",
    "print(f'the amount of students in web development is {web_count} and the amount in data science is {data_count}')\n"
   ]
  },
  {
   "cell_type": "code",
   "execution_count": 68,
   "metadata": {},
   "outputs": [
    {
     "name": "stdout",
     "output_type": "stream",
     "text": [
      "The average pets for web dev student is 1.29\n",
      "The average pets owned by data students is 1.0\n"
     ]
    }
   ],
   "source": [
    "# What is the average number of pets for students in web development?\n",
    "web_count = 0\n",
    "data_count = 0\n",
    "web_pet_count = 0\n",
    "data_pet_count = 0\n",
    "for student in students:\n",
    "    course = student['course']\n",
    "    pet = len(student['pets'])\n",
    "    if course == 'web development':\n",
    "        web_count += 1\n",
    "        web_pet_count += pet \n",
    "    else:\n",
    "        data_count += 1\n",
    "        data_pet_count += 1\n",
    "#print(web_pet_count)\n",
    "avg_pet = round(web_pet_count / web_count, 2)        \n",
    "print(f'The average pets for web dev student is {avg_pet}')\n",
    "avg_data_pet = round(data_pet_count / data_count, 2)\n",
    "print(f'The average pets owned by data students is {avg_data_pet}')"
   ]
  },
  {
   "cell_type": "code",
   "execution_count": null,
   "metadata": {},
   "outputs": [],
   "source": [
    "# What is the average pet age for students in data science?\n",
    "# please see the above question. I put the answers in one loop"
   ]
  },
  {
   "cell_type": "code",
   "execution_count": 122,
   "metadata": {},
   "outputs": [
    {
     "name": "stdout",
     "output_type": "stream",
     "text": [
      "Counter({'medium': 4, 'dark': 3})\n"
     ]
    }
   ],
   "source": [
    "# What is most frequent coffee preference for data science students?\n",
    "import collections\n",
    "\n",
    "dark_count = 0\n",
    "med_count = 0\n",
    "light_count = 0\n",
    "coffee_count = []\n",
    "for student in students:\n",
    "    courses = student[\"course\"]\n",
    "    if courses == \"data science\":\n",
    "        preference = student[\"coffee_preference\"]\n",
    "        coffee_count.append(preference)\n",
    "\n",
    "print(collections.Counter(coffee_count))"
   ]
  },
  {
   "cell_type": "code",
   "execution_count": 121,
   "metadata": {},
   "outputs": [
    {
     "name": "stdout",
     "output_type": "stream",
     "text": [
      "Counter({'light': 3, 'dark': 2, 'medium': 2})\n"
     ]
    }
   ],
   "source": [
    "# What is the least frequent coffee preference for web development students?\n",
    "import collections\n",
    "\n",
    "m_count = 0\n",
    "d_count = 0\n",
    "l_count = 0\n",
    "cof_pref = []\n",
    "for student in students:\n",
    "    courses = student['course']\n",
    "    pref = student['coffee_preference']\n",
    "    #for course in courses:\n",
    "    if courses == 'web development':\n",
    "            cof_pref.append(pref)\n",
    "print(collections.Counter(cof_pref))"
   ]
  },
  {
   "cell_type": "code",
   "execution_count": 90,
   "metadata": {},
   "outputs": [
    {
     "name": "stdout",
     "output_type": "stream",
     "text": [
      "83.8\n"
     ]
    }
   ],
   "source": [
    "# What is the average grade for students with at least 2 pets?\n",
    "grades_w_two_pets = 0\n",
    "num_of_grade = 0\n",
    "for student in students:\n",
    "    grades = student['grades']\n",
    "    pets = len(student['pets'])\n",
    "    for grade in grades:\n",
    "        if pets >= 2:     \n",
    "            grades_w_two_pets += grade\n",
    "            num_of_grade += 1\n",
    "print(grades_w_two_pets / num_of_grade)\n"
   ]
  },
  {
   "cell_type": "code",
   "execution_count": 123,
   "metadata": {},
   "outputs": [
    {
     "name": "stdout",
     "output_type": "stream",
     "text": [
      "1\n"
     ]
    }
   ],
   "source": [
    "# How many students have 3 pets?\n",
    "student_count = 0\n",
    "for student in students:\n",
    "    pets = student['pets']\n",
    "    pet_count = len(pets)\n",
    "        # for pet in pets:\n",
    "    if len(pets) == 3:\n",
    "        student_count += 1\n",
    "print(student_count)\n",
    "                     \n",
    "             \n"
   ]
  },
  {
   "cell_type": "code",
   "execution_count": 113,
   "metadata": {},
   "outputs": [
    {
     "name": "stdout",
     "output_type": "stream",
     "text": [
      "98\n"
     ]
    }
   ],
   "source": [
    "\n",
    "# # What is the average grade for students with 0 pets?\n",
    "for student in students:\n",
    "    grades = student['grades']\n",
    "    pet_number = len(student['pets'])\n",
    "    for grade in grades:\n",
    "        if pet_number == 0:\n",
    "            grade = sum(student['grades']) / len(students)\n",
    "print(grade)\n",
    "\n"
   ]
  },
  {
   "cell_type": "code",
   "execution_count": 14,
   "metadata": {},
   "outputs": [
    {
     "name": "stdout",
     "output_type": "stream",
     "text": [
      "The average pets for web dev student is 81.17857142857143\n",
      "The average pets owned by data students is 84.67857142857143\n"
     ]
    }
   ],
   "source": [
    "# What is the average grade for web development students? data science students?\n",
    "web_count = 0\n",
    "data_count = 0\n",
    "web_grade = 0\n",
    "data_grade = 0\n",
    "for student in students:\n",
    "    course = student['course']\n",
    "    grades = student['grades']\n",
    "    for grade in grades:\n",
    "        if course == 'web development':\n",
    "            web_count += 1\n",
    "            web_grade += grade\n",
    "        else:\n",
    "            data_count += 1\n",
    "            data_grade += grade\n",
    "#print(web_grade)\n",
    "avg_web_grade = web_grade / web_count        \n",
    "print(f'The average grade for web dev student is {avg_web_grade}')\n",
    "avg_data_grade = data_grade / data_count\n",
    "print(f'The average grade owned by data students is {avg_data_grade}')"
   ]
  },
  {
   "cell_type": "code",
   "execution_count": 25,
   "metadata": {},
   "outputs": [
    {
     "name": "stdout",
     "output_type": "stream",
     "text": [
      "34\n"
     ]
    }
   ],
   "source": [
    "# What is the average grade range (i.e. highest grade - lowest grade) for dark coffee drinkers?\n",
    "dark_grades = []\n",
    "for student in students:\n",
    "    grades = student['grades']\n",
    "    preference = student['coffee_preference']\n",
    "    for grade in grades:\n",
    "        if preference == 'dark':\n",
    "            dark_grades.append(grade)\n",
    "##print(dark_grades) I am getting more grades than students\n",
    "grade_range = max(dark_grades) - min(dark_grades)\n",
    "print(grade_range)"
   ]
  },
  {
   "cell_type": "code",
   "execution_count": 37,
   "metadata": {},
   "outputs": [
    {
     "name": "stdout",
     "output_type": "stream",
     "text": [
      "7\n",
      "7\n"
     ]
    }
   ],
   "source": [
    "# What is the average number of pets for medium coffee drinkers?\n",
    "pet_count = 0\n",
    "medium_drinkers = 0\n",
    "for student in students:\n",
    "    preference = student['coffee_preference']\n",
    "    pets = student['pets']\n",
    "    for pet in pets:\n",
    "        if preference == 'medium':\n",
    "            pet_count += 1\n",
    "            medium_drinkers += 1\n",
    "print(medium_drinkers) ## I get 7 medium drinkers but above I only got 6\n",
    "print(pet_count)            "
   ]
  },
  {
   "cell_type": "code",
   "execution_count": 42,
   "metadata": {},
   "outputs": [
    {
     "name": "stdout",
     "output_type": "stream",
     "text": [
      "horse\n"
     ]
    }
   ],
   "source": [
    "# What is the most common type of pet for web development students?\n",
    "pet_species = []\n",
    "for student in students:\n",
    "    pets = student['pets']\n",
    "    course = student['course']\n",
    "    for pet in pets:\n",
    "        ##print(pet)\n",
    "        if len(pet) > 0 and course == 'web development':\n",
    "            specie = pet['species']\n",
    "            ##print(specie)\n",
    "            pet_species.append(specie)\n",
    "            #number_of_pets += 1\n",
    "            #print(pet_species)\n",
    "number_of_types = {pet:pet_species.count(pet) for pet in pet_species }\n",
    "print(max(number_of_types))\n"
   ]
  },
  {
   "cell_type": "code",
   "execution_count": 21,
   "metadata": {},
   "outputs": [
    {
     "name": "stdout",
     "output_type": "stream",
     "text": [
      "13.642857142857142\n"
     ]
    }
   ],
   "source": [
    "# What is the average name length?\n",
    "total_name = 0\n",
    "student_count = 0\n",
    "for student in students:\n",
    "    student_count += 1\n",
    "    names = student['student']\n",
    "    for name in names:\n",
    "        total_name += len(name)\n",
    "        \n",
    "avg_name_len = total_name / student_count\n",
    "print(avg_name_len)\n",
    "        "
   ]
  },
  {
   "cell_type": "code",
   "execution_count": 127,
   "metadata": {},
   "outputs": [
    {
     "name": "stdout",
     "output_type": "stream",
     "text": [
      "8\n"
     ]
    }
   ],
   "source": [
    "# What is the highest pet age for light coffee drinkers?\n",
    "pet_age = []\n",
    "for student in students:\n",
    "    c_pref = student['coffee_preference']\n",
    "    pets = student['pets']\n",
    "    if c_pref == 'light':\n",
    "        for pet in pets:\n",
    "            age = int(pet['age'])\n",
    "            pet_age.append(age)\n",
    "print(max(pet_age))"
   ]
  }
 ],
 "metadata": {
  "interpreter": {
   "hash": "38cca0c38332a56087b24af0bc80247f4fced29cb4f7f437d91dc159adec9c4e"
  },
  "kernelspec": {
   "display_name": "Python 3.9.12 ('base')",
   "language": "python",
   "name": "python3"
  },
  "language_info": {
   "codemirror_mode": {
    "name": "ipython",
    "version": 3
   },
   "file_extension": ".py",
   "mimetype": "text/x-python",
   "name": "python",
   "nbconvert_exporter": "python",
   "pygments_lexer": "ipython3",
   "version": "3.9.12"
  }
 },
 "nbformat": 4,
 "nbformat_minor": 2
}
