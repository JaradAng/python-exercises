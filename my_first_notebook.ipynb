{
 "cells": [
  {
   "cell_type": "code",
   "execution_count": 1,
   "id": "e4d4ee8b",
   "metadata": {},
   "outputs": [],
   "source": [
    "## press esc to enter command mode\n",
    "\n",
    "## shift enter will execute current cell\n",
    "## \n",
    "##command S will save your work\n",
    "## control enter will run the current cell\n"
   ]
  },
  {
   "cell_type": "code",
   "execution_count": 2,
   "id": "28ef6a9e",
   "metadata": {},
   "outputs": [
    {
     "name": "stdout",
     "output_type": "stream",
     "text": [
      "This is my first jupyter notebook\n"
     ]
    }
   ],
   "source": [
    "print(\"This is my first jupyter notebook\")"
   ]
  },
  {
   "cell_type": "code",
   "execution_count": 7,
   "id": "a2ef96df",
   "metadata": {},
   "outputs": [
    {
     "name": "stdout",
     "output_type": "stream",
     "text": [
      "enter your height in m: 2\n",
      "enter your weight in kg: 100\n",
      "25\n"
     ]
    }
   ],
   "source": [
    "## BMI calculator I made \n",
    "height = input(\"enter your height in m: \")\n",
    "weight = input(\"enter your weight in kg: \")\n",
    "weightint = int(weight)\n",
    "heightint = float(height)\n",
    "bmi = (weightint) / (heightint ** 2)\n",
    "bmiint = int(bmi)\n",
    "print(bmiint)\n",
    "    "
   ]
  },
  {
   "cell_type": "code",
   "execution_count": 5,
   "id": "ab498891",
   "metadata": {},
   "outputs": [
    {
     "name": "stdout",
     "output_type": "stream",
     "text": [
      "Which number do you want to check? 1651\n",
      "This is an odd number\n"
     ]
    }
   ],
   "source": [
    "## odd or even I made eariler\n",
    "number = int(input(\"Which number do you want to check? \"))\n",
    "\n",
    "if number % 2 == 0:\n",
    "    print(\"This is an even number.\")\n",
    "else:\n",
    "    print(\"This is an odd number\")"
   ]
  },
  {
   "cell_type": "code",
   "execution_count": null,
   "id": "1850be14",
   "metadata": {},
   "outputs": [],
   "source": []
  }
 ],
 "metadata": {
  "kernelspec": {
   "display_name": "Python 3 (ipykernel)",
   "language": "python",
   "name": "python3"
  },
  "language_info": {
   "codemirror_mode": {
    "name": "ipython",
    "version": 3
   },
   "file_extension": ".py",
   "mimetype": "text/x-python",
   "name": "python",
   "nbconvert_exporter": "python",
   "pygments_lexer": "ipython3",
   "version": "3.9.12"
  }
 },
 "nbformat": 4,
 "nbformat_minor": 5
}
